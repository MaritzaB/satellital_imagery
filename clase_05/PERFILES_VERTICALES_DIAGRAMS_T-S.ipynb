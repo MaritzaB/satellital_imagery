{
 "cells": [
  {
   "cell_type": "code",
   "execution_count": 11,
   "id": "926e5465-6533-4651-ad3a-766d80255a71",
   "metadata": {},
   "outputs": [],
   "source": [
    "%reset -f"
   ]
  },
  {
   "cell_type": "code",
   "execution_count": null,
   "id": "26599266-4ae3-4a6b-b629-f4ef10fa3803",
   "metadata": {
    "tags": []
   },
   "outputs": [],
   "source": [
    "#import xarray as xr\n",
    "import matplotlib.pyplot as plt\n",
    "import netCDF4 as nc\n",
    "import numpy.ma as ma\n"
   ]
  }
 ],
 "metadata": {
  "kernelspec": {
   "display_name": "Python 3 (ipykernel)",
   "language": "python",
   "name": "python3"
  },
  "language_info": {
   "codemirror_mode": {
    "name": "ipython",
    "version": 3
   },
   "file_extension": ".py",
   "mimetype": "text/x-python",
   "name": "python",
   "nbconvert_exporter": "python",
   "pygments_lexer": "ipython3",
   "version": "3.10.9"
  }
 },
 "nbformat": 4,
 "nbformat_minor": 5
}
