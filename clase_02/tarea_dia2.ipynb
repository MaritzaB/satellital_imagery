{
 "cells": [
  {
   "cell_type": "markdown",
   "id": "6791714d-c67e-4625-91bf-8f08639da8b3",
   "metadata": {},
   "source": [
    "## 1. Construye un array de 1 a 1000 cada 5 veces y define variables con las siguientes condiciones:\n",
    " * Que sea mayor que 200 y menor que 800\n",
    " * que sea multiplo de 2 y 5\n",
    "\n",
    "## 2. Descarga datos de la temperatura superficial del mar (datos MUR)de una region de tu interes(diferentes al de la clase) y realiza un mapa.\n"
   ]
  }
 ],
 "metadata": {
  "kernelspec": {
   "display_name": "Python 3 (ipykernel)",
   "language": "python",
   "name": "python3"
  },
  "language_info": {
   "codemirror_mode": {
    "name": "ipython",
    "version": 3
   },
   "file_extension": ".py",
   "mimetype": "text/x-python",
   "name": "python",
   "nbconvert_exporter": "python",
   "pygments_lexer": "ipython3",
   "version": "3.10.9"
  }
 },
 "nbformat": 4,
 "nbformat_minor": 5
}
