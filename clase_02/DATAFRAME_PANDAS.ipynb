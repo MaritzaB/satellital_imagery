{
 "cells": [
  {
   "cell_type": "code",
   "execution_count": 1,
   "id": "79c29f8c-8cc3-4169-9896-1034198216e2",
   "metadata": {},
   "outputs": [],
   "source": [
    "import pandas as pd\n",
    "import numpy as np\n"
   ]
  },
  {
   "cell_type": "markdown",
   "id": "aae24cd9-06d9-4cd4-8960-b07fc49c8202",
   "metadata": {},
   "source": [
    "# Dataframe\n",
    "## Un dataframe es una herramienta de organización de datos que se utiliza para almacenar cualquier tipo de información. El formato de estas estructuras puede compararse con los diccionarios de Python. Efectivamente, las claves son los nombres de las columnas y los valores son las Series"
   ]
  },
  {
   "cell_type": "markdown",
   "id": "6e0b45e7-c970-40c3-bd8a-aef1a54502a1",
   "metadata": {},
   "source": [
    "## Dataframe y archivos xlsx\n",
    "* file='CPUE PACIFICO GUATEMALA.xlsx'"
   ]
  }
 ],
 "metadata": {
  "kernelspec": {
   "display_name": "Python 3 (ipykernel)",
   "language": "python",
   "name": "python3"
  },
  "language_info": {
   "codemirror_mode": {
    "name": "ipython",
    "version": 3
   },
   "file_extension": ".py",
   "mimetype": "text/x-python",
   "name": "python",
   "nbconvert_exporter": "python",
   "pygments_lexer": "ipython3",
   "version": "3.10.9"
  }
 },
 "nbformat": 4,
 "nbformat_minor": 5
}
