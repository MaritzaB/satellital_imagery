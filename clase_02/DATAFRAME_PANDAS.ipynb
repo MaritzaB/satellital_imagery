{
 "cells": [
  {
   "cell_type": "code",
   "execution_count": 1,
   "id": "79c29f8c-8cc3-4169-9896-1034198216e2",
   "metadata": {},
   "outputs": [],
   "source": [
    "import pandas as pd\n",
    "import numpy as np\n"
   ]
  },
  {
   "attachments": {},
   "cell_type": "markdown",
   "id": "aae24cd9-06d9-4cd4-8960-b07fc49c8202",
   "metadata": {},
   "source": [
    "# Dataframe\n",
    "## Un dataframe es una herramienta de organización de datos que se utiliza para almacenar cualquier tipo de información. El formato de estas estructuras puede compararse con los diccionarios de Python. Efectivamente, las claves son los nombres de las columnas y los valores son las Series"
   ]
  },
  {
   "attachments": {},
   "cell_type": "markdown",
   "id": "6e0b45e7-c970-40c3-bd8a-aef1a54502a1",
   "metadata": {},
   "source": [
    "## Dataframe y archivos xlsx\n",
    "* file='CPUE PACIFICO GUATEMALA.xlsx'"
   ]
  },
  {
   "cell_type": "code",
   "execution_count": 5,
   "id": "de57b57e",
   "metadata": {},
   "outputs": [
    {
     "name": "stdout",
     "output_type": "stream",
     "text": [
      "     AÑO  MES   CPUE\n",
      "0   2008    1   4.50\n",
      "1   2008    2   5.44\n",
      "2   2008    3   6.67\n",
      "3   2008    4   8.22\n",
      "4   2009    1  10.35\n",
      "5   2009    2   4.79\n",
      "6   2009    3   5.00\n",
      "7   2009    4   3.10\n",
      "8   2010    1   6.54\n",
      "9   2010    2   2.94\n",
      "10  2010    3   1.39\n",
      "11  2010    4   2.46\n",
      "12  2011    1   0.85\n",
      "13  2011    2   2.51\n",
      "14  2011    3   1.42\n",
      "15  2011    4   2.08\n",
      "16  2012    1   1.59\n",
      "17  2012    2   2.71\n",
      "18  2012    3   5.43\n",
      "19  2012    4   2.77\n",
      "20  2013    1   3.33\n",
      "21  2013    2   2.72\n",
      "22  2013    3   2.05\n",
      "23  2013    4   2.25\n"
     ]
    }
   ],
   "source": [
    "%reset -f\n",
    "\n",
    "import pandas as pd\n",
    "import numpy as np\n",
    "\n",
    "file = 'CPUE PACIFICO GUATEMALA.csv'\n",
    "\n",
    "df = pd.read_csv(file)\n",
    "print(df)"
   ]
  },
  {
   "cell_type": "code",
   "execution_count": 8,
   "id": "3801e55f",
   "metadata": {},
   "outputs": [],
   "source": [
    "year = np.array(df['AÑO'])\n",
    "month = np.array(df['MES'])\n",
    "cpue = np.array(df['CPUE'])"
   ]
  },
  {
   "cell_type": "code",
   "execution_count": null,
   "id": "7a621b25",
   "metadata": {},
   "outputs": [],
   "source": [
    "lista_meses = [1,2,3,4]\n",
    "\n",
    "media_cpue = np.zeros(4)\n",
    "\n",
    "for mes in range(0,4):\n",
    "    index = np.where(month == mes)\n",
    "    "
   ]
  }
 ],
 "metadata": {
  "kernelspec": {
   "display_name": "Python 3 (ipykernel)",
   "language": "python",
   "name": "python3"
  },
  "language_info": {
   "codemirror_mode": {
    "name": "ipython",
    "version": 3
   },
   "file_extension": ".py",
   "mimetype": "text/x-python",
   "name": "python",
   "nbconvert_exporter": "python",
   "pygments_lexer": "ipython3",
   "version": "3.10.6"
  }
 },
 "nbformat": 4,
 "nbformat_minor": 5
}
