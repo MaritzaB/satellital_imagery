{
 "cells": [
  {
   "cell_type": "code",
   "execution_count": 24,
   "id": "e9bfe3f7-e498-404c-a4e5-2477e595f746",
   "metadata": {},
   "outputs": [],
   "source": [
    "%reset -f"
   ]
  },
  {
   "cell_type": "markdown",
   "id": "cab82bda-dc2e-4d7d-93d1-a70230225a18",
   "metadata": {},
   "source": [
    "# Estructuras de control\n",
    "### En un lenguaje de programación, las estructuras de control permiten modificar el flujo de la ejecución de un  conjunto de instrucciones.\n"
   ]
  },
  {
   "attachments": {
    "24298b5e-0ed5-4307-b814-1bece557f13d.png": {
     "image/png": "[encoded data removed]"
    },
    "47f613ca-8de2-4110-a00e-06ae9d203c13.png": {
     "image/png": "[encoded data removed]"
    }
   },
   "cell_type": "markdown",
   "id": "026c40f2-0959-4131-ad3f-490f8e79bf22",
   "metadata": {},
   "source": [
    "![download.png](attachment:47f613ca-8de2-4110-a00e-06ae9d203c13.png)## Ciclo for \n",
    "![image.png](attachment:24298b5e-0ed5-4307-b814-1bece557f13d.png)"
   ]
  },
  {
   "cell_type": "code",
   "execution_count": 5,
   "id": "9ba7956d-f257-459b-94e9-6fef70f6ff1c",
   "metadata": {},
   "outputs": [],
   "source": [
    "# ejemplo 1\n",
    "frutas=['peras','manzanas','mangos','uvas','piñas']"
   ]
  },
  {
   "cell_type": "code",
   "execution_count": 6,
   "id": "5573da5e-9ac7-4f4e-822e-e3c91f594a32",
   "metadata": {},
   "outputs": [
    {
     "name": "stdout",
     "output_type": "stream",
     "text": [
      "peras\n",
      "manzanas\n",
      "mangos\n",
      "uvas\n",
      "piñas\n"
     ]
    }
   ],
   "source": [
    "for x in frutas:\n",
    "    print(x)"
   ]
  },
  {
   "cell_type": "code",
   "execution_count": 8,
   "id": "38e75adc-02ca-4f63-a129-7a7b4d5c4687",
   "metadata": {},
   "outputs": [],
   "source": [
    "# ejemplo 2\n",
    "datos=[23.5,34,37.2,28]"
   ]
  },
  {
   "cell_type": "code",
   "execution_count": 9,
   "id": "f374231d-2ea6-4918-b6cc-b636aaaab4c2",
   "metadata": {},
   "outputs": [
    {
     "name": "stdout",
     "output_type": "stream",
     "text": [
      "48.0\n",
      "69\n",
      "75.4\n",
      "57\n"
     ]
    }
   ],
   "source": [
    "# me sume cada elemnto por dos y le sume 1\n",
    "for num in datos:\n",
    "    resul=2*num+1\n",
    "    print(resul)"
   ]
  },
  {
   "cell_type": "code",
   "execution_count": 10,
   "id": "c016cc0d-ae1b-48e0-af9c-a4919a638ae6",
   "metadata": {},
   "outputs": [],
   "source": [
    "# convertir a entero\n",
    "a=int(48.0)"
   ]
  },
  {
   "cell_type": "code",
   "execution_count": 11,
   "id": "77942687-8b53-41bf-8c17-31fb73754b75",
   "metadata": {},
   "outputs": [],
   "source": [
    "# guardar en una lista vacia\n",
    "resul=[]\n",
    "for num in datos:\n",
    "    resul.append(2*num+1)"
   ]
  },
  {
   "cell_type": "code",
   "execution_count": null,
   "id": "afff57e1-7ddf-42b8-8c6f-fb44b02ec6be",
   "metadata": {},
   "outputs": [],
   "source": [
    "# para cada elemento (x) x^3+2x-5"
   ]
  },
  {
   "cell_type": "code",
   "execution_count": 15,
   "id": "c5b3c72f-b503-48cf-bf9a-f883d7a6d0dd",
   "metadata": {},
   "outputs": [],
   "source": [
    "# 1era forma Enrique\n",
    "resul=[]\n",
    "resul2=[]\n",
    "for num in datos:\n",
    "    resul.append((num**(3))+(2*num)-5)\n",
    "    resul2.append(pow(num,3)+2*num-5)\n",
    "    \n",
    "    "
   ]
  },
  {
   "cell_type": "code",
   "execution_count": 18,
   "id": "19e9f707-ee83-4ed1-bb98-9e1e24acdc64",
   "metadata": {},
   "outputs": [],
   "source": [
    "%reset -f"
   ]
  },
  {
   "cell_type": "code",
   "execution_count": 22,
   "id": "3138cd66-ffbc-4f92-8806-bdc89fa217e8",
   "metadata": {},
   "outputs": [
    {
     "name": "stdout",
     "output_type": "stream",
     "text": [
      "[ 10  12  14  16  18  20  22  24  26  28  30  32  34  36  38  40  42  44\n",
      "  46  48  50  52  54  56  58  60  62  64  66  68  70  72  74  76  78  80\n",
      "  82  84  86  88  90  92  94  96  98 100]\n"
     ]
    }
   ],
   "source": [
    "import numpy as np\n",
    "dato=np.arange(10,102,2)\n",
    "print(dato)"
   ]
  },
  {
   "cell_type": "code",
   "execution_count": 23,
   "id": "d73dddfa-1376-49bc-848b-78c50dec64ca",
   "metadata": {},
   "outputs": [
    {
     "data": {
      "text/plain": [
       "(46,)"
      ]
     },
     "execution_count": 23,
     "metadata": {},
     "output_type": "execute_result"
    }
   ],
   "source": [
    "dato.shape"
   ]
  },
  {
   "cell_type": "code",
   "execution_count": 30,
   "id": "1da23138-5860-4f3b-963f-7f4bf26dfd92",
   "metadata": {},
   "outputs": [
    {
     "name": "stdout",
     "output_type": "stream",
     "text": [
      "[ 20.  22.  24.  26.  28.  30.  32.  34.  36.  38.  40.  42.  44.  46.\n",
      "  48.  50.  52.  54.  56.  58.  60.  62.  64.  66.  68.  70.  72.  74.\n",
      "  76.  78.  80.  82.  84.  86.  88.  90.  92.  94.  96.  98. 100. 102.\n",
      " 104. 106. 108. 110.]\n"
     ]
    }
   ],
   "source": [
    "# llenar utilizando numpy\n",
    "#resul=np.zeros(len(dato))\n",
    "resul2=np.ones(len(dato))\n",
    "#print(resul)\n",
    "for i in range(0,len(dato)):\n",
    "    resul2[i]=dato[i]+10\n",
    "print(resul2)"
   ]
  },
  {
   "cell_type": "code",
   "execution_count": 25,
   "id": "6444b875-a844-4778-a34d-f9c713e4a941",
   "metadata": {},
   "outputs": [],
   "source": [
    "# con matrices\n",
    "import numpy as np\n",
    "a=[[2,5,10.5],[8,-2,4],[1,3,10]]"
   ]
  },
  {
   "cell_type": "code",
   "execution_count": 40,
   "id": "990c9380-19d5-4604-8086-ac4886b2be58",
   "metadata": {},
   "outputs": [],
   "source": [
    "#print(a.shape)"
   ]
  },
  {
   "cell_type": "code",
   "execution_count": 26,
   "id": "cee35db0-e166-44b2-af97-c2f76bc41763",
   "metadata": {},
   "outputs": [
    {
     "name": "stdout",
     "output_type": "stream",
     "text": [
      "(3, 3)\n"
     ]
    }
   ],
   "source": [
    "a=np.array(a)\n",
    "print(a.shape)\n",
    "b=np.array([[2.3,5,-8],[3,-2,4.6],[10,0.3,-10]])\n",
    "c=np.array([[6.2,10,-8],[3.5,-2,6.1],[4,0.3,-15]])"
   ]
  },
  {
   "cell_type": "code",
   "execution_count": 27,
   "id": "b8675586-5d0d-4011-9f14-981985d0f7d7",
   "metadata": {},
   "outputs": [],
   "source": [
    "m,n=a.shape\n",
    "matrix=np.zeros([m,n,3])\n",
    "matrix[:,:,0]=a\n",
    "matrix[:,:,1]=b\n",
    "matrix[:,:,2]=c"
   ]
  },
  {
   "cell_type": "code",
   "execution_count": 29,
   "id": "a2769c1d-839c-4766-83a2-f7fea4840623",
   "metadata": {},
   "outputs": [
    {
     "name": "stdout",
     "output_type": "stream",
     "text": [
      "[[  6.2  10.   -8. ]\n",
      " [  3.5  -2.    6.1]\n",
      " [  4.    0.3 -15. ]]\n"
     ]
    }
   ],
   "source": [
    "print(matrix[:,:,2])"
   ]
  },
  {
   "cell_type": "code",
   "execution_count": 30,
   "id": "282b034a-fa03-4d57-a33e-0d640132b709",
   "metadata": {},
   "outputs": [
    {
     "name": "stdout",
     "output_type": "stream",
     "text": [
      "0\n",
      "1\n"
     ]
    }
   ],
   "source": [
    "mat2=np.zeros([m,n,2])\n",
    "for ii in range(0,len(matrix)-1):#\n",
    "    print(ii)   \n",
    "    mat2[:,:,ii]=matrix[:,:,ii]+matrix[:,:,ii+1]"
   ]
  },
  {
   "cell_type": "code",
   "execution_count": 23,
   "id": "f7890315-0e3d-4054-82eb-65c30df782fe",
   "metadata": {},
   "outputs": [
    {
     "data": {
      "text/plain": [
       "3"
      ]
     },
     "execution_count": 23,
     "metadata": {},
     "output_type": "execute_result"
    }
   ],
   "source": [
    "len(matrix)"
   ]
  },
  {
   "cell_type": "code",
   "execution_count": 69,
   "id": "bac14a6b-1b54-4ed6-9950-5aa21a1a67a9",
   "metadata": {},
   "outputs": [
    {
     "data": {
      "text/plain": [
       "array([[  8.5,  15. , -16. ],\n",
       "       [  6.5,  -4. ,  10.7],\n",
       "       [ 14. ,   0.6, -25. ]])"
      ]
     },
     "execution_count": 21,
     "metadata": {},
     "output_type": "execute_result"
    }
   ],
   "source": [
    "mat2[:,:,1]"
   ]
  },
  {
   "attachments": {
    "f114da76-1b10-48ee-8496-bacb4f2e5c12.png": {
     "image/png": "[encoded data removed]"
    }
   },
   "cell_type": "markdown",
   "id": "94893bff-b944-45e9-8796-06a7b587ee5d",
   "metadata": {},
   "source": [
    "## Condicional\n",
    "![image.png](attachment:f114da76-1b10-48ee-8496-bacb4f2e5c12.png)"
   ]
  },
  {
   "cell_type": "code",
   "execution_count": 31,
   "id": "67444467-b520-446e-adab-6eebe1e53e41",
   "metadata": {},
   "outputs": [],
   "source": [
    "%reset -f"
   ]
  },
  {
   "cell_type": "code",
   "execution_count": 7,
   "id": "d086e5e5-e73f-4bd7-abad-7c486d857a72",
   "metadata": {},
   "outputs": [
    {
     "name": "stdout",
     "output_type": "stream",
     "text": [
      "x es menor que 10\n"
     ]
    }
   ],
   "source": [
    "# ejemplo 1\n",
    "x=10\n",
    "if x<10:\n",
    "    print('x es menor que 10')\n",
    "else:\n",
    "    print('x mayor que 10')"
   ]
  },
  {
   "cell_type": "code",
   "execution_count": 12,
   "id": "d0bf74f3-aa3f-447e-a1b8-a8b43e893bd8",
   "metadata": {},
   "outputs": [],
   "source": [
    "#ejemplo 2\n",
    "import numpy as np\n",
    "datos=np.array([-5,2,10,23,6,33])\n",
    "xx=[]\n",
    "yy=[]\n",
    "for i in range(0,len(datos)):\n",
    "    if datos[i]<20:\n",
    "        xx.append(datos[i])\n",
    "    else:\n",
    "        yy.append(datos[i])\n",
    "    "
   ]
  },
  {
   "cell_type": "code",
   "execution_count": 35,
   "id": "96a15e78-ba6a-458c-b22d-509f42e28967",
   "metadata": {},
   "outputs": [
    {
     "name": "stdout",
     "output_type": "stream",
     "text": [
      "[21.0, 23.5, 26.0, 28.5, 31.0, 33.5, 36.0, 38.5]\n"
     ]
    }
   ],
   "source": [
    "#ejemplo 3\n",
    "import numpy as np\n",
    "data=np.arange(1,100,2.5)\n",
    "resul=[]\n",
    "#print(data)\n",
    "for i in range(0,len(data)):\n",
    "    if data[i]>=20 and data[i]<=40:\n",
    "        resul.append(data[i])\n",
    "    \n",
    "print(resul)    "
   ]
  },
  {
   "cell_type": "code",
   "execution_count": null,
   "id": "aae54273-0d2b-4cce-bd49-547770aca9df",
   "metadata": {},
   "outputs": [],
   "source": []
  },
  {
   "cell_type": "code",
   "execution_count": 40,
   "id": "61be124e-ec23-48f9-af1c-6fbf273e03bd",
   "metadata": {},
   "outputs": [],
   "source": [
    "# arreglo años 1990 a 2023 cada dos años, determinar los años entre 2005 a 2015\n",
    "year=np.arange(1990,2023,2)\n",
    "resul2=[]\n",
    "for y in range(0,len(year)):\n",
    "    if year[y]>=2005 and year[y]<=2015:\n",
    "        resul2.append(year[y])"
   ]
  }
 ],
 "metadata": {
  "kernelspec": {
   "display_name": "Python 3 (ipykernel)",
   "language": "python",
   "name": "python3"
  },
  "language_info": {
   "codemirror_mode": {
    "name": "ipython",
    "version": 3
   },
   "file_extension": ".py",
   "mimetype": "text/x-python",
   "name": "python",
   "nbconvert_exporter": "python",
   "pygments_lexer": "ipython3",
   "version": "3.10.9"
  }
 },
 "nbformat": 4,
 "nbformat_minor": 5
}
