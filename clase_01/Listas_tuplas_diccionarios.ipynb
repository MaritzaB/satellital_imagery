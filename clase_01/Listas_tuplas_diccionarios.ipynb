{
 "cells": [
  {
   "cell_type": "markdown",
   "id": "cad27491-d0a8-41fc-a872-739959ade7d9",
   "metadata": {},
   "source": [
    "# LISTAS\n",
    "### Una lista en Python es un tipo de datos nativos construido dentro del lenguaje de programación Python. Estas listas son similares a matrices (o arrays) que se encuentran en otros lenguajes. Sin embargo, en Python se manejan como variables con muchos elementos. Aun así, las listas se consideran un tipo de datos para guardar colecciones de información.\n"
   ]
  },
  {
   "cell_type": "markdown",
   "id": "02d53439-db6b-41fc-8961-f4879190faf6",
   "metadata": {},
   "source": [
    "# TUPLAS\n",
    "### En Python, una tupla es un conjunto ordenado e inmutable de elementos del mismo o diferente tipo. Las tuplas se representan escribiendo los elementos entre paréntesis y separados por comas.\n"
   ]
  },
  {
   "cell_type": "markdown",
   "id": "4ae392c8-654b-40c4-b621-e2c04d8f43a9",
   "metadata": {},
   "source": [
    "# DICCIONARIOS\n",
    "### Estas son una excelente manera de almacenar datos estructurados de diferentes tipos. A menudo encontrará información de metadatos dentro de los diccionarios. Tienen dos elementos por posición, la clave y el valor.\n"
   ]
  }
 ],
 "metadata": {
  "kernelspec": {
   "display_name": "Python 3 (ipykernel)",
   "language": "python",
   "name": "python3"
  },
  "language_info": {
   "codemirror_mode": {
    "name": "ipython",
    "version": 3
   },
   "file_extension": ".py",
   "mimetype": "text/x-python",
   "name": "python",
   "nbconvert_exporter": "python",
   "pygments_lexer": "ipython3",
   "version": "3.10.9"
  }
 },
 "nbformat": 4,
 "nbformat_minor": 5
}
