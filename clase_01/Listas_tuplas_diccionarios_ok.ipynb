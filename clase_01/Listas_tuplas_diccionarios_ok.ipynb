{
 "cells": [
  {
   "cell_type": "markdown",
   "id": "cad27491-d0a8-41fc-a872-739959ade7d9",
   "metadata": {},
   "source": [
    "# LISTAS\n",
    "### Una lista en Python es un tipo de datos nativos construido dentro del lenguaje de programación Python. Estas listas son similares a matrices (o arrays) que se encuentran en otros lenguajes. Sin embargo, en Python se manejan como variables con muchos elementos. Aun así, las listas se consideran un tipo de datos para guardar colecciones de información.\n"
   ]
  },
  {
   "cell_type": "code",
   "execution_count": 1,
   "id": "b0524c9f-be9d-4b98-8999-dd0acdd3f8d3",
   "metadata": {},
   "outputs": [],
   "source": [
    "lista=[23.5,'temperature',35,'salinity','sensor','CTD 23']"
   ]
  },
  {
   "cell_type": "code",
   "execution_count": 7,
   "id": "8f241b37-47a7-428b-9b03-3e4df6761171",
   "metadata": {},
   "outputs": [
    {
     "data": {
      "text/plain": [
       "6"
      ]
     },
     "execution_count": 7,
     "metadata": {},
     "output_type": "execute_result"
    }
   ],
   "source": [
    "#lista[5]\n",
    "# numero de elemntos \n",
    "len(lista)"
   ]
  },
  {
   "cell_type": "code",
   "execution_count": 9,
   "id": "ad263733-e2d9-4986-9fb5-0bb231d449fa",
   "metadata": {},
   "outputs": [
    {
     "name": "stdout",
     "output_type": "stream",
     "text": [
      "salinity\n"
     ]
    }
   ],
   "source": [
    "lista[-1]\n",
    "print(lista[-3])"
   ]
  },
  {
   "cell_type": "code",
   "execution_count": 11,
   "id": "139855ea-a9c8-41f7-a887-30798d81ced6",
   "metadata": {},
   "outputs": [
    {
     "name": "stdout",
     "output_type": "stream",
     "text": [
      "[23.5, 'temperature', 33.4, 'salinity', 'sensor', 'CTD 23']\n"
     ]
    }
   ],
   "source": [
    "lista[2]=33.4\n",
    "print(lista)"
   ]
  },
  {
   "cell_type": "code",
   "execution_count": 17,
   "id": "5ba0591b-7391-46cf-81e5-2c55a6734040",
   "metadata": {},
   "outputs": [
    {
     "name": "stdout",
     "output_type": "stream",
     "text": [
      "[23.5, 'density', 33.4, 'salinity', 'sensor', 'CTD 23']\n"
     ]
    }
   ],
   "source": [
    "lista[-5]='density'\n",
    "print(lista)"
   ]
  },
  {
   "cell_type": "markdown",
   "id": "02d53439-db6b-41fc-8961-f4879190faf6",
   "metadata": {},
   "source": [
    "# TUPLAS\n",
    "### En Python, una tupla es un conjunto ordenado e inmutable de elementos del mismo o diferente tipo. Las tuplas se representan escribiendo los elementos entre paréntesis y separados por comas.\n"
   ]
  },
  {
   "cell_type": "code",
   "execution_count": 18,
   "id": "0c64a7e6-79f9-4a09-b616-fcd664c8ba68",
   "metadata": {},
   "outputs": [],
   "source": [
    "tupla=(23.5,'temperature',35,'salinity','sensor','CTD 23')"
   ]
  },
  {
   "cell_type": "code",
   "execution_count": 20,
   "id": "b285dfbc-c4f1-400a-8a97-47d5e57ffb14",
   "metadata": {},
   "outputs": [
    {
     "data": {
      "text/plain": [
       "'CTD 23'"
      ]
     },
     "execution_count": 20,
     "metadata": {},
     "output_type": "execute_result"
    }
   ],
   "source": [
    "tupla[-1]"
   ]
  },
  {
   "cell_type": "code",
   "execution_count": 21,
   "id": "2273cae3-72b0-4128-a398-28e089d14d57",
   "metadata": {},
   "outputs": [
    {
     "ename": "TypeError",
     "evalue": "'tuple' object does not support item assignment",
     "output_type": "error",
     "traceback": [
      "\u001b[1;31m---------------------------------------------------------------------------\u001b[0m",
      "\u001b[1;31mTypeError\u001b[0m                                 Traceback (most recent call last)",
      "Cell \u001b[1;32mIn[21], line 1\u001b[0m\n\u001b[1;32m----> 1\u001b[0m tupla[\u001b[38;5;241m2\u001b[39m]\u001b[38;5;241m=\u001b[39m\u001b[38;5;241m33.4\u001b[39m\n",
      "\u001b[1;31mTypeError\u001b[0m: 'tuple' object does not support item assignment"
     ]
    }
   ],
   "source": [
    "tupla[2]=33.4"
   ]
  },
  {
   "cell_type": "markdown",
   "id": "4ae392c8-654b-40c4-b621-e2c04d8f43a9",
   "metadata": {},
   "source": [
    "# DICCIONARIOS\n",
    "### Estas son una excelente manera de almacenar datos estructurados de diferentes tipos. A menudo encontrará información de metadatos dentro de los diccionarios. Tienen dos elementos por posición, la clave y el valor.\n"
   ]
  },
  {
   "cell_type": "code",
   "execution_count": 23,
   "id": "c765dcae-086b-4553-8576-19c836d5ba9a",
   "metadata": {},
   "outputs": [
    {
     "data": {
      "text/plain": [
       "dict_keys(['temperature', 'salinity', 'sensor'])"
      ]
     },
     "execution_count": 23,
     "metadata": {},
     "output_type": "execute_result"
    }
   ],
   "source": [
    "dicc={'temperature':35,'salinity': 33,'sensor':'CTD 23'}\n",
    "dicc.keys()"
   ]
  },
  {
   "cell_type": "code",
   "execution_count": 24,
   "id": "525e54be-89fc-426b-be24-8b1323365567",
   "metadata": {},
   "outputs": [
    {
     "data": {
      "text/plain": [
       "dict_values([35, 33, 'CTD 23'])"
      ]
     },
     "execution_count": 24,
     "metadata": {},
     "output_type": "execute_result"
    }
   ],
   "source": [
    "dicc.values()"
   ]
  },
  {
   "cell_type": "code",
   "execution_count": 5,
   "id": "2495d634-40e6-4e9b-8c08-0481c51cd03d",
   "metadata": {},
   "outputs": [],
   "source": [
    "datos={'temperature':[35,28,27.6],'sality': (33,34.5,5),'sensor':('CTD 23','CTD 24','CTD 26')}\n"
   ]
  },
  {
   "cell_type": "code",
   "execution_count": 6,
   "id": "3915a70d-4b46-4dba-a542-fb9039726039",
   "metadata": {},
   "outputs": [],
   "source": [
    "temp=datos['temperature']\n",
    "temp[0]=24\n"
   ]
  },
  {
   "cell_type": "code",
   "execution_count": 8,
   "id": "6965c159-d1c1-4ceb-8d3b-253a1dd5b8de",
   "metadata": {},
   "outputs": [],
   "source": [
    "promedio=sum(temp)/len(temp)"
   ]
  },
  {
   "cell_type": "code",
   "execution_count": null,
   "id": "e9bbbd12-f8cf-4649-874b-cc4e741f7834",
   "metadata": {},
   "outputs": [],
   "source": []
  },
  {
   "cell_type": "code",
   "execution_count": null,
   "id": "f8f71d19-9481-4a58-aa15-72c523b793c7",
   "metadata": {},
   "outputs": [],
   "source": []
  }
 ],
 "metadata": {
  "kernelspec": {
   "display_name": "Python 3 (ipykernel)",
   "language": "python",
   "name": "python3"
  },
  "language_info": {
   "codemirror_mode": {
    "name": "ipython",
    "version": 3
   },
   "file_extension": ".py",
   "mimetype": "text/x-python",
   "name": "python",
   "nbconvert_exporter": "python",
   "pygments_lexer": "ipython3",
   "version": "3.10.9"
  }
 },
 "nbformat": 4,
 "nbformat_minor": 5
}
