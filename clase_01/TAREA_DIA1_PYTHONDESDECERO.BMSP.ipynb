{
 "cells": [
  {
   "cell_type": "markdown",
   "id": "4c3a1de8-c0ae-4bef-b26c-901dc4e34a8b",
   "metadata": {},
   "source": [
    "## 1. Realiza una funcion para determinar la raiz cúbica de un numero cualquiera\n",
    "## 2. Construye una función donde calcules el tanto porciento de una cantidad. \n",
    "   Por ejemplo: El 30 porciento de 845\n",
    "## 3. Construye un diccionario con varias claves (minimo tres) y valores de acuerdo a tu perfil profesional. Luego determina utilizando comando las claves y los valores, como se hizo en clase\n"
   ]
  }
 ],
 "metadata": {
  "kernelspec": {
   "display_name": "Python 3 (ipykernel)",
   "language": "python",
   "name": "python3"
  },
  "language_info": {
   "codemirror_mode": {
    "name": "ipython",
    "version": 3
   },
   "file_extension": ".py",
   "mimetype": "text/x-python",
   "name": "python",
   "nbconvert_exporter": "python",
   "pygments_lexer": "ipython3",
   "version": "3.10.9"
  }
 },
 "nbformat": 4,
 "nbformat_minor": 5
}
