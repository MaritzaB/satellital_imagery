{
 "cells": [
  {
   "cell_type": "markdown",
   "id": "78fb6f02-d9b9-40a7-9fb5-01b1c4bca84b",
   "metadata": {},
   "source": [
    "# PROMEDIOS CLIMATOLOGICOS"
   ]
  },
  {
   "cell_type": "code",
   "execution_count": null,
   "id": "4021bf0c-7f04-478d-9cd2-40c4eb7c2f9e",
   "metadata": {},
   "outputs": [],
   "source": [
    "import xarray as xr\n",
    "import numpy as np"
   ]
  },
  {
   "cell_type": "code",
   "execution_count": null,
   "id": "d479d1c9-765d-4e2d-a39c-41cac98948bc",
   "metadata": {},
   "outputs": [],
   "source": [
    "ds=xr.open_dataset(\"jplMURSST41mday_a7da_11db_be19_U1687331772750.nc\")\n",
    "ds.keys()"
   ]
  },
  {
   "cell_type": "code",
   "execution_count": null,
   "id": "eda8d888-efec-4cc3-a919-706bba9eca1c",
   "metadata": {},
   "outputs": [],
   "source": [
    "ds.keys()"
   ]
  },
  {
   "cell_type": "code",
   "execution_count": null,
   "id": "c36744d7-b1b2-44eb-84f0-c528b72bacf5",
   "metadata": {},
   "outputs": [],
   "source": [
    "sst3d=ds['sst']"
   ]
  },
  {
   "cell_type": "code",
   "execution_count": null,
   "id": "1abfb2a5-8074-493f-8f21-d3c29cedf77b",
   "metadata": {},
   "outputs": [],
   "source": [
    "sst3d.shape"
   ]
  },
  {
   "cell_type": "code",
   "execution_count": null,
   "id": "174b475e-9298-48bb-8e20-406fde08e13c",
   "metadata": {},
   "outputs": [],
   "source": [
    "lon=ds.longitude.values\n",
    "lat=ds.latitude.values\n",
    "time=ds.time.values"
   ]
  },
  {
   "cell_type": "code",
   "execution_count": null,
   "id": "067e5768-fa08-4c0a-a165-839b6ded0337",
   "metadata": {},
   "outputs": [],
   "source": [
    "print(time)"
   ]
  },
  {
   "cell_type": "code",
   "execution_count": null,
   "id": "007c6ca6-7b0a-4031-9c19-c841f65baabb",
   "metadata": {},
   "outputs": [],
   "source": [
    "import os\n",
    "os.chdir(r'C:\\Users\\bajaMSP\\Documents\\RUTINAS_DIAS_PYTHON_DESDE_CERO')"
   ]
  },
  {
   "cell_type": "code",
   "execution_count": null,
   "id": "f8374b39-e128-4ed8-afe3-7f4eceb410ee",
   "metadata": {},
   "outputs": [],
   "source": [
    "from funciones_curso import timeDatetime64\n",
    "yyyy,mm,dd=timeDatetime64(time)"
   ]
  },
  {
   "cell_type": "code",
   "execution_count": null,
   "id": "45e271ef-27e9-4016-9649-019afea0acd0",
   "metadata": {},
   "outputs": [],
   "source": [
    "#print(yyyy,mm,dd)"
   ]
  },
  {
   "cell_type": "code",
   "execution_count": null,
   "id": "bb2f4619-f1b3-4851-bb2e-687d5c43b4d4",
   "metadata": {},
   "outputs": [],
   "source": [
    "# donde voy a guardar\n",
    "[tt,r,c]=sst3d.shape\n",
    "mean_sst=np.ones([12,r,c])*np.nan"
   ]
  },
  {
   "cell_type": "code",
   "execution_count": null,
   "id": "6cff826e-a3a8-4260-aca6-5e044cb02c80",
   "metadata": {},
   "outputs": [],
   "source": [
    "mes=np.arange(1,13)\n",
    "for i in range(0,len(mes)):\n",
    "    ind=np.where(mm==mes[i]);ind2=ind[0]\n",
    "    data=sst3d[ind2,:,:]\n",
    "    mean_sst[i,:,:]=np.nanmean(data,axis=0)\n",
    "\n",
    "\n",
    "# guardar los resultados\n",
    "os.chdir(r'results/')\n",
    "np.savez('mediaSST guatemala.npz',mediaSST=mean_sst)\n",
    "    "
   ]
  },
  {
   "cell_type": "code",
   "execution_count": null,
   "id": "8f2c5c99-c375-4813-a4d1-26de99f1c769",
   "metadata": {},
   "outputs": [],
   "source": [
    "print(ind[1])"
   ]
  },
  {
   "cell_type": "code",
   "execution_count": null,
   "id": "bc159407-d11a-4028-a55b-0ba73b1b0f9d",
   "metadata": {},
   "outputs": [],
   "source": [
    "os.getcwd()"
   ]
  },
  {
   "cell_type": "code",
   "execution_count": null,
   "id": "74530e3a-e451-46cf-8fb5-1a904172a476",
   "metadata": {},
   "outputs": [],
   "source": [
    "print(mean_sst[11,:,:])\n",
    "#np.nanmin(mean_sst)"
   ]
  },
  {
   "cell_type": "code",
   "execution_count": null,
   "id": "c142c667-e81a-4d79-ae05-873661fc5175",
   "metadata": {},
   "outputs": [],
   "source": [
    "import matplotlib.pyplot as plt\n",
    "plt.figure(figsize=(15,15))\n",
    "for i in range(0,12):\n",
    "    plt.subplot(3,4,mes[i])\n",
    "    plt.pcolor(lon,lat,mean_sst[i,:,:],vmin=27.5,vmax=29.5,cmap=plt.cm.jet)\n",
    "    \n",
    "plt.colorbar()\n",
    "# consulta plt.text para colocar los nombres de los meses, Meses=['Enr',.....]"
   ]
  }
 ],
 "metadata": {
  "kernelspec": {
   "display_name": "Python 3 (ipykernel)",
   "language": "python",
   "name": "python3"
  },
  "language_info": {
   "codemirror_mode": {
    "name": "ipython",
    "version": 3
   },
   "file_extension": ".py",
   "mimetype": "text/x-python",
   "name": "python",
   "nbconvert_exporter": "python",
   "pygments_lexer": "ipython3",
   "version": "3.10.6"
  }
 },
 "nbformat": 4,
 "nbformat_minor": 5
}
