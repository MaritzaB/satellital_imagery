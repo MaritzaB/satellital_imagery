{
 "cells": [
  {
   "cell_type": "markdown",
   "id": "78fb6f02-d9b9-40a7-9fb5-01b1c4bca84b",
   "metadata": {},
   "source": [
    "# PROMEDIOS CLIMATOLOGICOS"
   ]
  },
  {
   "cell_type": "code",
   "execution_count": 2,
   "id": "4021bf0c-7f04-478d-9cd2-40c4eb7c2f9e",
   "metadata": {},
   "outputs": [],
   "source": [
    "import xarray as xr\n",
    "import numpy as np"
   ]
  }
 ],
 "metadata": {
  "kernelspec": {
   "display_name": "Python 3 (ipykernel)",
   "language": "python",
   "name": "python3"
  },
  "language_info": {
   "codemirror_mode": {
    "name": "ipython",
    "version": 3
   },
   "file_extension": ".py",
   "mimetype": "text/x-python",
   "name": "python",
   "nbconvert_exporter": "python",
   "pygments_lexer": "ipython3",
   "version": "3.10.9"
  }
 },
 "nbformat": 4,
 "nbformat_minor": 5
}
