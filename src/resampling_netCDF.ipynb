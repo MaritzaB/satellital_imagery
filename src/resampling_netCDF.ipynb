{
 "cells": [
  {
   "cell_type": "code",
   "execution_count": 2,
   "metadata": {},
   "outputs": [],
   "source": [
    "import xarray as xr\n",
    "import glob as glob\n",
    "import os\n",
    "import netCDF4 as nc\n",
    "from rasterio.warp import reproject, Resampling, calculate_default_transform\n",
    "import rasterio\n",
    "import rioxarray"
   ]
  },
  {
   "cell_type": "code",
   "execution_count": 31,
   "metadata": {},
   "outputs": [],
   "source": [
    "# Read in the data\n",
    "year = '2014'\n",
    "month = '01'\n",
    "directory = f'../data/{year}/{month}/'\n",
    "filename = f'cmems_obs-wind_glo_phy_my_l4_P1M_{year}{month}_clipped'\n",
    "ds = xr.open_dataset(directory + filename + '.nc')\n",
    "eastward_winds = ds.eastward_wind\n",
    "northward_winds = ds.northward_wind\n",
    "eastward_winds.rio.set_spatial_dims('lon', 'lat', inplace=True)\n",
    "northward_winds.rio.set_spatial_dims('lon', 'lat', inplace=True)\n",
    "crs = 'EPSG:4326'\n",
    "eastward_winds.rio.set_crs(crs).rio.to_raster(directory + filename + '_eastward_winds.tif')\n",
    "northward_winds.rio.set_crs(crs).rio.to_raster(directory + filename + '_northward_winds.tif')\n",
    "\n"
   ]
  },
  {
   "cell_type": "code",
   "execution_count": 34,
   "metadata": {},
   "outputs": [
    {
     "name": "stdout",
     "output_type": "stream",
     "text": [
      "CRS del archivo raster: EPSG:4326\n"
     ]
    }
   ],
   "source": [
    "import rasterio\n",
    "file = '../data/2014/01/cmems_obs-wind_glo_phy_my_l4_P1M_201401_clipped_eastward_winds.tif'\n",
    "#file = '../data/2014/01/2014_01_jplMURSST41_.tif'\n",
    "# Abre el archivo raster\n",
    "with rasterio.open(file) as src:\n",
    "    # Obtiene el CRS\n",
    "    crs = src.crs\n",
    "\n",
    "print(\"CRS del archivo raster:\", crs)\n"
   ]
  },
  {
   "cell_type": "code",
   "execution_count": 35,
   "metadata": {},
   "outputs": [],
   "source": [
    "def reproj_match(infile, match, outfile):\n",
    "    \"\"\"Reproject a file to match the shape and projection of existing raster. \n",
    "    \n",
    "    Parameters\n",
    "    ----------\n",
    "    infile : (string) path to input file to reproject\n",
    "    match : (string) path to raster with desired shape and projection \n",
    "    outfile : (string) path to output file tif\n",
    "    \"\"\"\n",
    "    # open input\n",
    "    with rasterio.open(infile) as src:\n",
    "        src_transform = src.transform\n",
    "        \n",
    "        # open input to match\n",
    "        with rasterio.open(match) as match:\n",
    "            dst_crs = match.crs\n",
    "            \n",
    "            # calculate the output transform matrix\n",
    "            dst_transform, dst_width, dst_height = calculate_default_transform(\n",
    "                src.crs,     # input CRS\n",
    "                dst_crs,     # output CRS\n",
    "                match.width,   # input width\n",
    "                match.height,  # input height \n",
    "                *match.bounds,  # unpacks input outer boundaries (left, bottom, right, top)\n",
    "            )\n",
    "\n",
    "        # set properties for output\n",
    "        dst_kwargs = src.meta.copy()\n",
    "        dst_kwargs.update({\"crs\": dst_crs,\n",
    "                           \"transform\": dst_transform,\n",
    "                           \"width\": dst_width,\n",
    "                           \"height\": dst_height,\n",
    "                           \"nodata\": 0})\n",
    "        print(\"Coregistered to shape:\", dst_height,dst_width,'\\n Affine',dst_transform)\n",
    "        # open output\n",
    "        with rasterio.open(outfile, \"w\", **dst_kwargs) as dst:\n",
    "            # iterate through bands and write using reproject function\n",
    "            for i in range(1, src.count + 1):\n",
    "                reproject(\n",
    "                    source=rasterio.band(src, i),\n",
    "                    destination=rasterio.band(dst, i),\n",
    "                    src_transform=src.transform,\n",
    "                    src_crs=src.crs,\n",
    "                    dst_transform=dst_transform,\n",
    "                    dst_crs=dst_crs,\n",
    "                    resampling=Resampling.nearest)\n",
    "                "
   ]
  },
  {
   "cell_type": "code",
   "execution_count": 39,
   "metadata": {},
   "outputs": [
    {
     "name": "stdout",
     "output_type": "stream",
     "text": [
      "Coregistered to shape: 128 212 \n",
      " Affine | 0.25, 0.00,-163.00|\n",
      "| 0.00,-0.25, 55.00|\n",
      "| 0.00, 0.00, 1.00|\n",
      "Coregistered to shape: 128 212 \n",
      " Affine | 0.25, 0.00,-163.00|\n",
      "| 0.00,-0.25, 55.00|\n",
      "| 0.00, 0.00, 1.00|\n"
     ]
    }
   ],
   "source": [
    "# reproject sst and chla to match the shape and projection of the winds\n",
    "\n",
    "sst_file = f'{directory}/{year}_{month}_jplMURSST41_.tif'\n",
    "chla_file = f'{directory}/{year}_{month}_NESDIS_VHNSQ_chla.tif'\n",
    "match_file = f'{directory}/{filename}_eastward_winds.tif'\n",
    "out_sst = f'{sst_file}_reproj.tif'\n",
    "out_chla = f'{chla_file}_reproj.tif'\n",
    "\n",
    "reproj_match(sst_file, match_file, out_sst)\n",
    "reproj_match(chla_file, match_file, out_chla)"
   ]
  }
 ],
 "metadata": {
  "kernelspec": {
   "display_name": "Python 3",
   "language": "python",
   "name": "python3"
  },
  "language_info": {
   "codemirror_mode": {
    "name": "ipython",
    "version": 3
   },
   "file_extension": ".py",
   "mimetype": "text/x-python",
   "name": "python",
   "nbconvert_exporter": "python",
   "pygments_lexer": "ipython3",
   "version": "3.10.12"
  }
 },
 "nbformat": 4,
 "nbformat_minor": 2
}
