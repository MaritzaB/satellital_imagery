{
 "cells": [
  {
   "cell_type": "code",
   "execution_count": 23,
   "id": "4525cf60-6cb8-4c14-ba7d-f48732a83b31",
   "metadata": {},
   "outputs": [],
   "source": [
    "%reset -f"
   ]
  },
  {
   "cell_type": "markdown",
   "id": "419238d1-d749-411f-b2c8-992a25304cfb",
   "metadata": {},
   "source": [
    "# Datos de Clorofila y Basemap"
   ]
  },
  {
   "cell_type": "code",
   "execution_count": 24,
   "id": "55d88d39-c0f6-4f89-9be7-63cfe443375e",
   "metadata": {},
   "outputs": [],
   "source": [
    "import numpy as np\n",
    "import pandas as pd\n",
    "import netCDF4 as nc\n",
    "\n",
    "import matplotlib.pyplot as plt\n",
    "import matplotlib.colors as colors\n"
   ]
  },
  {
   "cell_type": "code",
   "execution_count": 25,
   "id": "85310600-4f20-45d9-aa7c-f919df79d74e",
   "metadata": {},
   "outputs": [],
   "source": [
    "data=nc.Dataset('../chlc/2014/01/noaacwNPPVIIRSSQchlaMonthly_9637_0f53_01f6_U1701732355136.nc')"
   ]
  },
  {
   "cell_type": "code",
   "execution_count": 26,
   "id": "02271e43-e6c0-463b-81f9-9ac806dc96ee",
   "metadata": {},
   "outputs": [
    {
     "name": "stdout",
     "output_type": "stream",
     "text": [
      "dict_keys(['time', 'altitude', 'latitude', 'longitude', 'chlor_a']) \n",
      "\n",
      "Metadata of the variable Chlorophyl concentration: \n",
      " <class 'netCDF4._netCDF4.Variable'>\n",
      "float32 chlor_a(time, altitude, latitude, longitude)\n",
      "    _FillValue: -999.0\n",
      "    C_format: %.4g\n",
      "    cell_methods: time:mean(interval:1 month)\n",
      "    colorBarMaximum: 30.0\n",
      "    colorBarMinimum: 0.03\n",
      "    colorBarScale: Log\n",
      "    coverage_content_type: physicalMeasurement\n",
      "    grid_mapping: coord_ref\n",
      "    ioos_category: Ocean Color\n",
      "    long_name: Chlorophyll Concentration, Default Algorithm\n",
      "    references: O and #39;Reilly J. E. et al. (1998), Ocean color chlorophyll algorithms for SeaWiFS, J. Geophys. Res., 103(C11), 2493724953\n",
      "    standard_name: mass_concentration_of_chlorophyll_a_in_sea_water\n",
      "    units: mg m^-3\n",
      "    valid_max: 100.0\n",
      "    valid_min: 0.001\n",
      "unlimited dimensions: \n",
      "current shape = (1, 1, 854, 1414)\n",
      "filling on \n",
      "\n"
     ]
    }
   ],
   "source": [
    "print(data.variables.keys() , '\\n')\n",
    "print('Metadata of the variable Chlorophyl concentration: \\n', data.variables['chlor_a'] , '\\n')"
   ]
  },
  {
   "cell_type": "code",
   "execution_count": 27,
   "id": "7a8cd89e-36b2-45f3-b642-902379934564",
   "metadata": {},
   "outputs": [
    {
     "data": {
      "text/plain": [
       "(1, 854, 1414)"
      ]
     },
     "execution_count": 27,
     "metadata": {},
     "output_type": "execute_result"
    }
   ],
   "source": [
    "chl3d=np.array(data.variables['chlor_a'][0][:])\n",
    "lon=np.array(data.variables['longitude'][:])\n",
    "lat=np.array(data.variables['latitude'][:])\n",
    "chl_units = data.variables['chlor_a'].units\n",
    "chl3d.shape"
   ]
  },
  {
   "cell_type": "code",
   "execution_count": 28,
   "id": "a8226fcd-b205-4f56-856a-19d3bf6396dc",
   "metadata": {},
   "outputs": [
    {
     "name": "stdout",
     "output_type": "stream",
     "text": [
      "0.001 99.75622\n"
     ]
    }
   ],
   "source": [
    "chl3d[-1,:,:][chl3d[-1,:,:] == -999.0] = np.nan\n",
    "min_chl = np.nanmin(chl3d)\n",
    "max_chl = np.nanmax(chl3d)\n",
    "print(min_chl, max_chl)"
   ]
  },
  {
   "cell_type": "code",
   "execution_count": 29,
   "metadata": {},
   "outputs": [
    {
     "data": {
      "text/plain": [
       "(1207556,)"
      ]
     },
     "execution_count": 29,
     "metadata": {},
     "output_type": "execute_result"
    }
   ],
   "source": [
    "chl3d_flattened = chl3d.flatten()\n",
    "chl3d_flattened.shape"
   ]
  },
  {
   "cell_type": "code",
   "execution_count": 30,
   "metadata": {},
   "outputs": [
    {
     "data": {
      "text/html": [
       "<div>\n",
       "<style scoped>\n",
       "    .dataframe tbody tr th:only-of-type {\n",
       "        vertical-align: middle;\n",
       "    }\n",
       "\n",
       "    .dataframe tbody tr th {\n",
       "        vertical-align: top;\n",
       "    }\n",
       "\n",
       "    .dataframe thead th {\n",
       "        text-align: right;\n",
       "    }\n",
       "</style>\n",
       "<table border=\"1\" class=\"dataframe\">\n",
       "  <thead>\n",
       "    <tr style=\"text-align: right;\">\n",
       "      <th></th>\n",
       "      <th>0</th>\n",
       "    </tr>\n",
       "  </thead>\n",
       "  <tbody>\n",
       "    <tr>\n",
       "      <th>count</th>\n",
       "      <td>830439.000000</td>\n",
       "    </tr>\n",
       "    <tr>\n",
       "      <th>mean</th>\n",
       "      <td>0.265737</td>\n",
       "    </tr>\n",
       "    <tr>\n",
       "      <th>std</th>\n",
       "      <td>0.945658</td>\n",
       "    </tr>\n",
       "    <tr>\n",
       "      <th>min</th>\n",
       "      <td>0.001000</td>\n",
       "    </tr>\n",
       "    <tr>\n",
       "      <th>25%</th>\n",
       "      <td>0.078452</td>\n",
       "    </tr>\n",
       "    <tr>\n",
       "      <th>50%</th>\n",
       "      <td>0.157071</td>\n",
       "    </tr>\n",
       "    <tr>\n",
       "      <th>75%</th>\n",
       "      <td>0.305814</td>\n",
       "    </tr>\n",
       "    <tr>\n",
       "      <th>max</th>\n",
       "      <td>99.756218</td>\n",
       "    </tr>\n",
       "  </tbody>\n",
       "</table>\n",
       "</div>"
      ],
      "text/plain": [
       "                   0\n",
       "count  830439.000000\n",
       "mean        0.265737\n",
       "std         0.945658\n",
       "min         0.001000\n",
       "25%         0.078452\n",
       "50%         0.157071\n",
       "75%         0.305814\n",
       "max        99.756218"
      ]
     },
     "execution_count": 30,
     "metadata": {},
     "output_type": "execute_result"
    }
   ],
   "source": [
    "chl3d_flattened_df = pd.DataFrame(chl3d_flattened)\n",
    "chl3d_flattened_df.describe()"
   ]
  },
  {
   "cell_type": "code",
   "execution_count": 31,
   "metadata": {},
   "outputs": [
    {
     "data": {
      "text/plain": [
       "Text(0, 0.5, 'Chlorophyl concentration mg m^-3')"
      ]
     },
     "execution_count": 31,
     "metadata": {},
     "output_type": "execute_result"
    }
   ],
   "source": [
    "# Boxplot\n",
    "\n",
    "chl3d_boxplot = chl3d_flattened_df.boxplot()\n",
    "chl3d_boxplot.set_yscale('log')\n",
    "chl3d_boxplot.title.set_text('Boxplot of Chlorophyl concentration in the ocean')\n",
    "chl3d_boxplot.set_ylabel(f'Chlorophyl concentration {chl_units}')\n"
   ]
  },
  {
   "cell_type": "code",
   "execution_count": 32,
   "id": "cd763773-9a03-4945-a3a2-80ccd1593b4a",
   "metadata": {},
   "outputs": [],
   "source": [
    "plt.figure(1)\n",
    "plt.pcolor(lon,lat,chl3d[-1,:,:],norm=colors.LogNorm(vmin=min_chl, vmax=max_chl),cmap='viridis', shading='auto')\n",
    "colorbar = plt.colorbar(pad=0.02,aspect=40)\n",
    "\n",
    "colorbar.set_label(chl_units)"
   ]
  },
  {
   "cell_type": "code",
   "execution_count": 33,
   "id": "10f1443c-3db3-4a91-96f9-d9d82cdd6f98",
   "metadata": {},
   "outputs": [
    {
     "ename": "ModuleNotFoundError",
     "evalue": "No module named 'mpl_toolkits.basemap'",
     "output_type": "error",
     "traceback": [
      "\u001b[0;31m---------------------------------------------------------------------------\u001b[0m",
      "\u001b[0;31mModuleNotFoundError\u001b[0m                       Traceback (most recent call last)",
      "\u001b[1;32m/workspaces/satellital_imagery/clase_04/CLOROFILA_BASEMAP_ok.ipynb Cell 12\u001b[0m line \u001b[0;36m3\n\u001b[1;32m      <a href='vscode-notebook-cell://dev-container%2B7b22686f737450617468223a222f686f6d652f6369632f446f63756d656e74732f4769744875622f736174656c6c6974616c5f696d6167657279222c226c6f63616c446f636b6572223a66616c73652c22636f6e66696746696c65223a7b22246d6964223a312c22667350617468223a222f686f6d652f6369632f446f63756d656e74732f4769744875622f736174656c6c6974616c5f696d61676572792f2e646576636f6e7461696e65722f646576636f6e7461696e65722e6a736f6e222c2265787465726e616c223a2266696c653a2f2f2f686f6d652f6369632f446f63756d656e74732f4769744875622f736174656c6c6974616c5f696d61676572792f2e646576636f6e7461696e65722f646576636f6e7461696e65722e6a736f6e222c2270617468223a222f686f6d652f6369632f446f63756d656e74732f4769744875622f736174656c6c6974616c5f696d61676572792f2e646576636f6e7461696e65722f646576636f6e7461696e65722e6a736f6e222c22736368656d65223a2266696c65227d7d/workspaces/satellital_imagery/clase_04/CLOROFILA_BASEMAP_ok.ipynb#X24sdnNjb2RlLXJlbW90ZQ%3D%3D?line=0'>1</a>\u001b[0m \u001b[39m# NOT WORKING\u001b[39;00m\n\u001b[0;32m----> <a href='vscode-notebook-cell://dev-container%2B7b22686f737450617468223a222f686f6d652f6369632f446f63756d656e74732f4769744875622f736174656c6c6974616c5f696d6167657279222c226c6f63616c446f636b6572223a66616c73652c22636f6e66696746696c65223a7b22246d6964223a312c22667350617468223a222f686f6d652f6369632f446f63756d656e74732f4769744875622f736174656c6c6974616c5f696d61676572792f2e646576636f6e7461696e65722f646576636f6e7461696e65722e6a736f6e222c2265787465726e616c223a2266696c653a2f2f2f686f6d652f6369632f446f63756d656e74732f4769744875622f736174656c6c6974616c5f696d61676572792f2e646576636f6e7461696e65722f646576636f6e7461696e65722e6a736f6e222c2270617468223a222f686f6d652f6369632f446f63756d656e74732f4769744875622f736174656c6c6974616c5f696d61676572792f2e646576636f6e7461696e65722f646576636f6e7461696e65722e6a736f6e222c22736368656d65223a2266696c65227d7d/workspaces/satellital_imagery/clase_04/CLOROFILA_BASEMAP_ok.ipynb#X24sdnNjb2RlLXJlbW90ZQ%3D%3D?line=2'>3</a>\u001b[0m \u001b[39mfrom\u001b[39;00m \u001b[39mmpl_toolkits\u001b[39;00m\u001b[39m.\u001b[39;00m\u001b[39mbasemap\u001b[39;00m \u001b[39mimport\u001b[39;00m Basemap\n\u001b[1;32m      <a href='vscode-notebook-cell://dev-container%2B7b22686f737450617468223a222f686f6d652f6369632f446f63756d656e74732f4769744875622f736174656c6c6974616c5f696d6167657279222c226c6f63616c446f636b6572223a66616c73652c22636f6e66696746696c65223a7b22246d6964223a312c22667350617468223a222f686f6d652f6369632f446f63756d656e74732f4769744875622f736174656c6c6974616c5f696d61676572792f2e646576636f6e7461696e65722f646576636f6e7461696e65722e6a736f6e222c2265787465726e616c223a2266696c653a2f2f2f686f6d652f6369632f446f63756d656e74732f4769744875622f736174656c6c6974616c5f696d61676572792f2e646576636f6e7461696e65722f646576636f6e7461696e65722e6a736f6e222c2270617468223a222f686f6d652f6369632f446f63756d656e74732f4769744875622f736174656c6c6974616c5f696d61676572792f2e646576636f6e7461696e65722f646576636f6e7461696e65722e6a736f6e222c22736368656d65223a2266696c65227d7d/workspaces/satellital_imagery/clase_04/CLOROFILA_BASEMAP_ok.ipynb#X24sdnNjb2RlLXJlbW90ZQ%3D%3D?line=3'>4</a>\u001b[0m \u001b[39mfrom\u001b[39;00m \u001b[39mmatplotlib\u001b[39;00m\u001b[39m.\u001b[39;00m\u001b[39mcolors\u001b[39;00m \u001b[39mimport\u001b[39;00m LogNorm\n\u001b[1;32m      <a href='vscode-notebook-cell://dev-container%2B7b22686f737450617468223a222f686f6d652f6369632f446f63756d656e74732f4769744875622f736174656c6c6974616c5f696d6167657279222c226c6f63616c446f636b6572223a66616c73652c22636f6e66696746696c65223a7b22246d6964223a312c22667350617468223a222f686f6d652f6369632f446f63756d656e74732f4769744875622f736174656c6c6974616c5f696d61676572792f2e646576636f6e7461696e65722f646576636f6e7461696e65722e6a736f6e222c2265787465726e616c223a2266696c653a2f2f2f686f6d652f6369632f446f63756d656e74732f4769744875622f736174656c6c6974616c5f696d61676572792f2e646576636f6e7461696e65722f646576636f6e7461696e65722e6a736f6e222c2270617468223a222f686f6d652f6369632f446f63756d656e74732f4769744875622f736174656c6c6974616c5f696d61676572792f2e646576636f6e7461696e65722f646576636f6e7461696e65722e6a736f6e222c22736368656d65223a2266696c65227d7d/workspaces/satellital_imagery/clase_04/CLOROFILA_BASEMAP_ok.ipynb#X24sdnNjb2RlLXJlbW90ZQ%3D%3D?line=5'>6</a>\u001b[0m fig, axes\u001b[39m=\u001b[39mplt\u001b[39m.\u001b[39msubplots(figsize\u001b[39m=\u001b[39m(\u001b[39m10\u001b[39m,\u001b[39m10\u001b[39m))\n",
      "\u001b[0;31mModuleNotFoundError\u001b[0m: No module named 'mpl_toolkits.basemap'"
     ]
    }
   ],
   "source": [
    "# NOT WORKING\n",
    "\n",
    "from mpl_toolkits.basemap import Basemap\n",
    "from matplotlib.colors import LogNorm\n",
    "\n",
    "fig, axes=plt.subplots(figsize=(10,10))\n",
    "\n",
    "m=Basemap(projection='mill',lat_ts=15,llcrnrlon=lon.min(), \\\n",
    "          urcrnrlon=lon.max(),llcrnrlat=lat.min(),urcrnrlat=lat.max(), \\\n",
    "          resolution='i')\n",
    "\n",
    "m.drawcoastlines()\n",
    "\n",
    "x,y=m(*np.meshgrid(lon,lat))\n",
    "\n",
    "m.pcolormesh(x,y,chl3d[-1,:,:],shading='gouraud',norm=LogNorm(vmin=MIN,vmax=MAX),cmap=plt.cm.jet)\n",
    "m.fillcontinents(color='0.6')\n",
    "\n",
    "m.drawparallels(np.arange(10,13,1),labels=[1,0,0,0],linewidth=0.7,fontsize=12)\n",
    "m.drawmeridians(np.arange(-77,-71,1),labels=[0,0,0,1],linewidth=0.7,fontsize=12)\n",
    "\n",
    "\n",
    "m.colorbar()\n",
    "plt.show()\n"
   ]
  }
 ],
 "metadata": {
  "kernelspec": {
   "display_name": "Python 3 (ipykernel)",
   "language": "python",
   "name": "python3"
  },
  "language_info": {
   "codemirror_mode": {
    "name": "ipython",
    "version": 3
   },
   "file_extension": ".py",
   "mimetype": "text/x-python",
   "name": "python",
   "nbconvert_exporter": "python",
   "pygments_lexer": "ipython3",
   "version": "3.10.12"
  }
 },
 "nbformat": 4,
 "nbformat_minor": 5
}
