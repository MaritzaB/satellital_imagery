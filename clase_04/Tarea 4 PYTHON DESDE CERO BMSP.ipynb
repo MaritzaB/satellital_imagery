{
 "cells": [
  {
   "cell_type": "markdown",
   "id": "d870c0d5-4329-4572-93a9-37e26128e6f0",
   "metadata": {},
   "source": [
    "## 1. Realiza un mapa climatologico de la clorofila con los promedios obtenidos en clase. Utiliza las librerias de basemap y matplotlib"
   ]
  }
 ],
 "metadata": {
  "kernelspec": {
   "display_name": "Python 3 (ipykernel)",
   "language": "python",
   "name": "python3"
  },
  "language_info": {
   "codemirror_mode": {
    "name": "ipython",
    "version": 3
   },
   "file_extension": ".py",
   "mimetype": "text/x-python",
   "name": "python",
   "nbconvert_exporter": "python",
   "pygments_lexer": "ipython3",
   "version": "3.10.9"
  }
 },
 "nbformat": 4,
 "nbformat_minor": 5
}
