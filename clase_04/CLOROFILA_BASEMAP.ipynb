{
 "cells": [
  {
   "cell_type": "code",
   "execution_count": 1,
   "id": "4525cf60-6cb8-4c14-ba7d-f48732a83b31",
   "metadata": {},
   "outputs": [],
   "source": [
    "%reset -f"
   ]
  },
  {
   "cell_type": "markdown",
   "id": "419238d1-d749-411f-b2c8-992a25304cfb",
   "metadata": {},
   "source": [
    "# Datos de Clorofila y Basemap"
   ]
  },
  {
   "cell_type": "code",
   "execution_count": 2,
   "id": "55d88d39-c0f6-4f89-9be7-63cfe443375e",
   "metadata": {},
   "outputs": [],
   "source": [
    "import numpy as np\n",
    "import netCDF4 as nc # DESDE ANACONDA"
   ]
  }
 ],
 "metadata": {
  "kernelspec": {
   "display_name": "Python 3 (ipykernel)",
   "language": "python",
   "name": "python3"
  },
  "language_info": {
   "codemirror_mode": {
    "name": "ipython",
    "version": 3
   },
   "file_extension": ".py",
   "mimetype": "text/x-python",
   "name": "python",
   "nbconvert_exporter": "python",
   "pygments_lexer": "ipython3",
   "version": "3.10.9"
  }
 },
 "nbformat": 4,
 "nbformat_minor": 5
}
