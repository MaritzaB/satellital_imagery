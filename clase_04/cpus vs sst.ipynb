{
 "cells": [
  {
   "cell_type": "code",
   "execution_count": 1,
   "id": "a125f2ed-95c6-495a-8b83-ea9142fd2c6a",
   "metadata": {},
   "outputs": [],
   "source": [
    "%reset -f"
   ]
  },
  {
   "cell_type": "markdown",
   "id": "f1445166-f9d7-4dec-b021-511bc2aa236d",
   "metadata": {},
   "source": [
    "## SST vs CPUE"
   ]
  },
  {
   "cell_type": "code",
   "execution_count": 2,
   "id": "8a4e9215-18c9-4eb9-8aba-f8aaf472223d",
   "metadata": {},
   "outputs": [],
   "source": [
    "import numpy as np\n",
    "import os \n"
   ]
  },
  {
   "cell_type": "code",
   "execution_count": null,
   "id": "441173ca-71ff-4cbd-8758-2e5461415d9a",
   "metadata": {},
   "outputs": [],
   "source": []
  }
 ],
 "metadata": {
  "kernelspec": {
   "display_name": "Python 3 (ipykernel)",
   "language": "python",
   "name": "python3"
  },
  "language_info": {
   "codemirror_mode": {
    "name": "ipython",
    "version": 3
   },
   "file_extension": ".py",
   "mimetype": "text/x-python",
   "name": "python",
   "nbconvert_exporter": "python",
   "pygments_lexer": "ipython3",
   "version": "3.10.9"
  }
 },
 "nbformat": 4,
 "nbformat_minor": 5
}
