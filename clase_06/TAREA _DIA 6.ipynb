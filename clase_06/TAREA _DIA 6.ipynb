{
 "cells": [
  {
   "cell_type": "markdown",
   "id": "e3c70f8f-2d17-4a4c-9cfa-04d0b643774d",
   "metadata": {},
   "source": [
    "# Descarga datos de viento (ERDDAP) de tu zona de interes, en un periodo de 10 años y realiza:\n",
    "## 1. Exploracion de los datos\n",
    "## 2. Mapa de viento con vectores direccionales\n",
    "## 3. Escoge un punto no tan cerca de la parte continental y realiza una climatologia con shading correspondiente a la desviacion estandar, tal y cual como se hizo en clases."
   ]
  }
 ],
 "metadata": {
  "kernelspec": {
   "display_name": "Python 3 (ipykernel)",
   "language": "python",
   "name": "python3"
  },
  "language_info": {
   "codemirror_mode": {
    "name": "ipython",
    "version": 3
   },
   "file_extension": ".py",
   "mimetype": "text/x-python",
   "name": "python",
   "nbconvert_exporter": "python",
   "pygments_lexer": "ipython3",
   "version": "3.10.9"
  }
 },
 "nbformat": 4,
 "nbformat_minor": 5
}
