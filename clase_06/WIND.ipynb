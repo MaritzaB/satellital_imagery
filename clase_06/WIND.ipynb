{
 "cells": [
  {
   "cell_type": "code",
   "execution_count": 22,
   "id": "09313d73-3e3b-42cf-857a-4f1e1badd244",
   "metadata": {},
   "outputs": [],
   "source": [
    "%reset -f\n"
   ]
  },
  {
   "cell_type": "code",
   "execution_count": 23,
   "id": "b5b19a28-ead5-4de6-b4e2-23c051b186ba",
   "metadata": {},
   "outputs": [],
   "source": [
    "import xarray as xr\n",
    "import matplotlib.pyplot as plt\n",
    "import numpy as np"
   ]
  },
  {
   "cell_type": "markdown",
   "id": "d6aa1004-d2e1-4c33-8337-eaebe3a80a2f",
   "metadata": {},
   "source": [
    "# EXPLORACION DE LOS DATOS\n",
    "https://coastwatch.pfeg.noaa.gov/erddap/griddap/erdQMwindmday_LonPM180.html?x_wind%5B(2023-01-16T00:00:00Z)%5D%5B(10.0)%5D%5B(-18):(-2)%5D%5B(-86):(-70)%5D,y_wind%5B(2023-01-16T00:00:00Z)%5D%5B(10.0)%5D%5B(-18):(-2)%5D%5B(-86):(-70)%5D&.draw=vectors&.vars=longitude%7Clatitude%7Cx_wind%7Cy_wind&.color=0x000000&.bgColor=0xffccccff"
   ]
  }
 ],
 "metadata": {
  "kernelspec": {
   "display_name": "Python 3 (ipykernel)",
   "language": "python",
   "name": "python3"
  },
  "language_info": {
   "codemirror_mode": {
    "name": "ipython",
    "version": 3
   },
   "file_extension": ".py",
   "mimetype": "text/x-python",
   "name": "python",
   "nbconvert_exporter": "python",
   "pygments_lexer": "ipython3",
   "version": "3.10.9"
  }
 },
 "nbformat": 4,
 "nbformat_minor": 5
}
